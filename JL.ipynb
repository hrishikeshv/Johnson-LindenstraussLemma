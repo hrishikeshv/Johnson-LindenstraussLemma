{
 "cells": [
  {
   "cell_type": "code",
   "execution_count": 1,
   "metadata": {
    "collapsed": false
   },
   "outputs": [],
   "source": [
    "import numpy as np\n",
    "import math\n",
    "from itertools import combinations\n",
    "from matplotlib import pyplot as plt\n",
    "from scipy.linalg import circulant\n",
    "from scipy.linalg import hadamard\n",
    "from scipy import stats\n",
    "%matplotlib inline  "
   ]
  },
  {
   "cell_type": "code",
   "execution_count": null,
   "metadata": {
    "collapsed": false
   },
   "outputs": [],
   "source": [
    "def randomSubspace(subspaceDimension, ambientDimension, method=\"hadamard\"):\n",
    "    if method == \"gaussian\":\n",
    "        return np.random.normal(0, 1, size=(subspaceDimension, ambientDimension))\n",
    "    elif method == \"circulant\":\n",
    "        cmatrix = circulant(np.random.normal(0, 1, ambientDimension))[:subspaceDimension]\n",
    "        custm = stats.rv_discrete(values=([-1,1],[1.0/2, 1.0/2]))\n",
    "        dmatrix = np.diag(custm.rvs(size=ambientDimension))\n",
    "        return cmatrix.dot(dmatrix)\n",
    "    elif method == \"sparse\":\n",
    "        custm = stats.rv_discrete(values=([-1,0,1],[1.0/6,2.0/3,1.0/6]))\n",
    "        return custm.rvs(size=(subspaceDimension, ambientDimension))\n",
    "    elif method == \"hadamard\":\n",
    "        P = np.random.normal(0, 1, size=(subspaceDimension, ambientDimension))\n",
    "        H = hadamard(ambientDimension)\n",
    "        custm = stats.rv_discrete(values=([-1,1],[1.0/2, 1.0/2]))\n",
    "        D = np.diag(custm.rvs(size=ambientDimension))\n",
    "        return P.dot(H.dot(D))\n",
    "\n",
    "def checkTheorem(oldData, newData, epsilon):\n",
    "    numBadPoints = 0\n",
    "    count=0\n",
    "    error = []\n",
    "    for (x,y), (x2,y2) in zip(combinations(oldData, 2), combinations(newData, 2)):\n",
    "        oldNorm = np.linalg.norm(x2-y2)**2 \n",
    "        newNorm = np.linalg.norm(x-y)**2 \n",
    "\n",
    "        if newNorm == 0 or oldNorm == 0:\n",
    "            continue\n",
    "\n",
    "        count+=1\n",
    "        error.append(oldNorm/ newNorm)\n",
    "        if abs(oldNorm / newNorm- 1) > epsilon:\n",
    "            numBadPoints += 1\n",
    "\n",
    "    plt.hist(error, 20)\n",
    "    plt.show()\n",
    "    return (1.0*numBadPoints)/count\n",
    "\n",
    "def jl(data, subspaceDim):\n",
    "    origDim = len(data[0])\n",
    "    A = randomSubspace(subspaceDim, origDim)\n",
    "    transformed = (1 / math.sqrt(subspaceDim)) * A.dot(data.T).T\n",
    "    return transformed\n",
    "\n",
    "if __name__ == '__main__':\n",
    "    size = 1000\n",
    "    n = 4096\n",
    "    eps = 0.05\n",
    "    method = \"gaussian\"\n",
    "    datatype = \"data\"\n",
    "    if method == \"gaussian\":\n",
    "        subspaceDim = int(math.ceil(2.0*math.log(size)/eps**2))\n",
    "    elif method == \"sparse\":\n",
    "        subspaceDim = int(math.ceil(2.0*math.log(size)/eps**2))\n",
    "    elif method == \"circulant\":\n",
    "        subspaceDim = int(math.ceil(2.0*(math.log(size))/eps**2))\n",
    "    data = np.random.uniform(-1,1,size=(size,n))\n",
    "    if datatype == \"dense\":\n",
    "        data = np.random.uniform(-1,1,size=(size,n))\n",
    "    elif datatype == \"sparse\":\n",
    "        indlist = np.random.choice(n, 10, replace=False)\n",
    "        data = np.zeros((size,n))\n",
    "        for ind in indlist:\n",
    "            data[ind] = np.random.uniform(-1,1,n)\n",
    "    trans = jl(data,subspaceDim)\n",
    "    print(checkTheorem(data, trans, eps))"
   ]
  },
  {
   "cell_type": "code",
   "execution_count": null,
   "metadata": {
    "collapsed": false
   },
   "outputs": [],
   "source": []
  },
  {
   "cell_type": "code",
   "execution_count": null,
   "metadata": {
    "collapsed": false
   },
   "outputs": [],
   "source": []
  },
  {
   "cell_type": "code",
   "execution_count": null,
   "metadata": {
    "collapsed": true
   },
   "outputs": [],
   "source": []
  }
 ],
 "metadata": {
  "anaconda-cloud": {},
  "kernelspec": {
   "display_name": "Python [Root]",
   "language": "python",
   "name": "Python [Root]"
  },
  "language_info": {
   "codemirror_mode": {
    "name": "ipython",
    "version": 3
   },
   "file_extension": ".py",
   "mimetype": "text/x-python",
   "name": "python",
   "nbconvert_exporter": "python",
   "pygments_lexer": "ipython3",
   "version": "3.5.2"
  }
 },
 "nbformat": 4,
 "nbformat_minor": 0
}
