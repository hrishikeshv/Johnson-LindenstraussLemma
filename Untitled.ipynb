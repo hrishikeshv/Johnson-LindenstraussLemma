{
 "cells": [
  {
   "cell_type": "code",
   "execution_count": 1,
   "metadata": {
    "collapsed": false
   },
   "outputs": [],
   "source": [
    "import numpy as np\n",
    "import math\n",
    "from itertools import combinations\n",
    "from matplotlib import pyplot as plt\n",
    "%matplotlib inline  "
   ]
  },
  {
   "cell_type": "code",
   "execution_count": 7,
   "metadata": {
    "collapsed": true
   },
   "outputs": [],
   "source": [
    "from scipy import stats\n",
    "xk = np.array([0, 1 , -1])\n",
    "pk = (0.6, 0.2, 0.2)\n",
    "custm = stats.rv_discrete(name='custm', values=(xk, pk))"
   ]
  },
  {
   "cell_type": "code",
   "execution_count": 8,
   "metadata": {
    "collapsed": false
   },
   "outputs": [
    {
     "name": "stdout",
     "output_type": "stream",
     "text": [
      "461\n"
     ]
    },
    {
     "data": {
      "image/png": "[encoded data removed]",
      "text/plain": [
       "<matplotlib.figure.Figure at 0x107d54160>"
      ]
     },
     "metadata": {},
     "output_type": "display_data"
    },
    {
     "name": "stdout",
     "output_type": "stream",
     "text": [
      "1.0\n"
     ]
    }
   ],
   "source": [
    "def randomSubspaceGuassian(subspaceDimension, ambientDimension):\n",
    "    return np.random.normal(0, 1, size=(subspaceDimension, ambientDimension))\n",
    "\n",
    "def randomSubspaceSparse(subspaceDimension, ambientDimension):\n",
    "    x = np.vstack([np.random.choice([0, 1, -1], size=ambientDimension, p=[2/3, 1/6, 1/6])]*subspaceDimension)\n",
    "    for i in range(0, subspaceDimension):\n",
    "        x[i] = np.random.choice([0, 1, -1], size=ambientDimension, p=[2/3, 1/6, 1/6])\n",
    "    return x\n",
    "  \n",
    "def randomSubspaceSparse1(subspaceDimension, ambientDimension):\n",
    "    x = np.vstack([custm.rvs(size=ambientDimension)]*subspaceDimension)\n",
    "    for i in range(0, subspaceDimension):\n",
    "        x[i] = custm.rvs(size=ambientDimension)\n",
    "    return x\n",
    "    \n",
    "def checkTheorem(oldData, newData, epsilon):\n",
    "    numBadPoints = 0\n",
    "    count=0\n",
    "    error = []\n",
    "    for (x,y), (x2,y2) in zip(combinations(oldData, 2), combinations(newData, 2)):\n",
    "        oldNorm = np.linalg.norm(x2-y2)**2 \n",
    "        newNorm = np.linalg.norm(x-y)**2 \n",
    "        if newNorm == 0 or oldNorm == 0:\n",
    "            continue\n",
    "        count+=1\n",
    "        error.append(oldNorm/ newNorm)         #distortion\n",
    "        if abs(oldNorm / newNorm- 1) > epsilon:\n",
    "            numBadPoints += 1\n",
    "\n",
    "    plt.hist(error, 20)\n",
    "    plt.show()\n",
    "    return (1.0*numBadPoints)/count\n",
    "\n",
    "def jl(data, subspaceDim):\n",
    "    origDim = len(data[0])\n",
    "    A = randomSubspaceSparse1(subspaceDim, origDim)\n",
    "    transformed = (1 / math.sqrt(subspaceDim)) * A.dot(data.T).T\n",
    "    return transformed\n",
    "\n",
    "if __name__ == '__main__':\n",
    "    size = 10000 #data points\n",
    "    n = 4096 #original dimension\n",
    "    eps = 0.20\n",
    "    subspaceDim = int(math.ceil(2.0*math.log(size)/eps**2))  #logm/e^2\n",
    "    print(subspaceDim)\n",
    "    data = np.random.randn(size,n) \n",
    "    trans = jl(data,subspaceDim)\n",
    "    print(checkTheorem(data, trans, eps))"
   ]
  },
  {
   "cell_type": "code",
   "execution_count": null,
   "metadata": {
    "collapsed": false
   },
   "outputs": [],
   "source": [
    "randomSubspaceSparse1(5, 7)"
   ]
  },
  {
   "cell_type": "code",
   "execution_count": null,
   "metadata": {
    "collapsed": false
   },
   "outputs": [],
   "source": [
    "randomSubspaceGuassian(5, 6)"
   ]
  },
  {
   "cell_type": "code",
   "execution_count": null,
   "metadata": {
    "collapsed": true
   },
   "outputs": [],
   "source": []
  },
  {
   "cell_type": "code",
   "execution_count": null,
   "metadata": {
    "collapsed": false
   },
   "outputs": [],
   "source": [
    "xk"
   ]
  },
  {
   "cell_type": "code",
   "execution_count": null,
   "metadata": {
    "collapsed": false
   },
   "outputs": [],
   "source": [
    "custm.xk"
   ]
  },
  {
   "cell_type": "code",
   "execution_count": null,
   "metadata": {
    "collapsed": true
   },
   "outputs": [],
   "source": [
    "R = custm.rvs(size=10)"
   ]
  },
  {
   "cell_type": "code",
   "execution_count": null,
   "metadata": {
    "collapsed": false
   },
   "outputs": [],
   "source": [
    "R"
   ]
  },
  {
   "cell_type": "code",
   "execution_count": null,
   "metadata": {
    "collapsed": true
   },
   "outputs": [],
   "source": []
  }
 ],
 "metadata": {
  "anaconda-cloud": {},
  "kernelspec": {
   "display_name": "Python [Root]",
   "language": "python",
   "name": "Python [Root]"
  },
  "language_info": {
   "codemirror_mode": {
    "name": "ipython",
    "version": 3
   },
   "file_extension": ".py",
   "mimetype": "text/x-python",
   "name": "python",
   "nbconvert_exporter": "python",
   "pygments_lexer": "ipython3",
   "version": "3.5.2"
  }
 },
 "nbformat": 4,
 "nbformat_minor": 0
}
